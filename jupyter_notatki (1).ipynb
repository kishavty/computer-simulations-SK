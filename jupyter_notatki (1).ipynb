{
 "cells": [
  {
   "cell_type": "markdown",
   "metadata": {},
   "source": [
    "# Opis komend w edytorze Jupyter Notebook:\n",
    "- .ipynb &mdash; rozszerzenie pliku Jupyter Notebook;\n",
    "- H &mdash; help;\n",
    "- Y (kod), M (tekst), Enter &mdash; tryb edycji (kolor zielony), Esc &mdash; tryb poleceń (kolor niebieski);\n",
    "- komórka Input, Output;\n",
    "- panel narzędzi;\n",
    "- A &mdash; komórka \"above\", B &mdash; komórka \"below\", D double &mdash; Delete;"
   ]
  },
  {
   "cell_type": "code",
   "execution_count": 1,
   "metadata": {},
   "outputs": [
    {
     "data": {
      "text/plain": [
       "4"
      ]
     },
     "execution_count": 1,
     "metadata": {},
     "output_type": "execute_result"
    }
   ],
   "source": [
    "2 + 2"
   ]
  },
  {
   "cell_type": "code",
   "execution_count": 2,
   "metadata": {},
   "outputs": [
    {
     "data": {
      "text/plain": [
       "4"
      ]
     },
     "execution_count": 2,
     "metadata": {},
     "output_type": "execute_result"
    }
   ],
   "source": [
    "Out[1]"
   ]
  },
  {
   "cell_type": "code",
   "execution_count": 3,
   "metadata": {},
   "outputs": [],
   "source": [
    "a = 5"
   ]
  },
  {
   "cell_type": "code",
   "execution_count": 4,
   "metadata": {},
   "outputs": [
    {
     "data": {
      "text/plain": [
       "9"
      ]
     },
     "execution_count": 4,
     "metadata": {},
     "output_type": "execute_result"
    }
   ],
   "source": [
    "a + 4"
   ]
  },
  {
   "cell_type": "code",
   "execution_count": 7,
   "metadata": {},
   "outputs": [],
   "source": [
    "a = 4\n",
    "# a + 4\n",
    "a + 4; # średnik - brak komorki output"
   ]
  },
  {
   "cell_type": "code",
   "execution_count": null,
   "metadata": {},
   "outputs": [],
   "source": [
    "# aby przerwać działanie:\n",
    "# Kernel -> Interrupt\n",
    "i = 1\n",
    "while i:\n",
    "    i += 1"
   ]
  },
  {
   "cell_type": "code",
   "execution_count": 8,
   "metadata": {},
   "outputs": [
    {
     "name": "stdout",
     "output_type": "stream",
     "text": [
      "Hello World\n"
     ]
    }
   ],
   "source": [
    "print(\"Hello World\") # funkcja 'print()' wyświetla wartość w nawiasie"
   ]
  },
  {
   "cell_type": "markdown",
   "metadata": {},
   "source": [
    "# Markdown i LaTeX\n",
    "Więcej o języku znaczników Markdown można znaleźć [tutaj](https://daringfireball.net/projects/markdown/syntax). Natomiast wszystkie niezbędne informacje oraz przykłady jak używać języka Markdown i LaTeX w edytorze Jupyter Notebook znajduję się pod tym [linkiem](https://jupyter-notebook.readthedocs.io/en/stable/examples/Notebook/Working%20With%20Markdown%20Cells.html)."
   ]
  },
  {
   "cell_type": "markdown",
   "metadata": {},
   "source": [
    "### Nagłówki\n",
    "# Wieksze\n",
    "### Mniejsze \n",
    "***"
   ]
  },
  {
   "cell_type": "markdown",
   "metadata": {},
   "source": [
    "**Punktowane listy i nie tylko**: \n",
    "\n",
    "* jeden\n",
    "* dwa  \n",
    "\n",
    "\n",
    "3. trzy  \n",
    "4. cztery\n",
    "\n",
    "\n",
    "- pięć\n",
    "  - sześć\n",
    "     - siedem"
   ]
  },
  {
   "cell_type": "markdown",
   "metadata": {},
   "source": [
    "**Tabela**:  \n",
    "\n",
    "|  Parametr| Wartość   |\n",
    "|------|------|\n",
    "|   a  | 2|\n",
    "|   b   | 3|"
   ]
  },
  {
   "cell_type": "markdown",
   "metadata": {},
   "source": [
    "**Przykłady formatowania tekstu:**  \n",
    "\n",
    "- **Hello** *World* \n",
    "- ***Hello*** <u>World</u> - zauważ, że do podkreślania używamy składni HTML"
   ]
  },
  {
   "cell_type": "markdown",
   "metadata": {},
   "source": [
    "**Symbole matematyczne:**  \n",
    "\n",
    "$\\alpha+\\beta+\\gamma=\\pi$"
   ]
  },
  {
   "cell_type": "markdown",
   "metadata": {},
   "source": [
    "Wycentrowane równania w nowej lini można zapisać za pomocą \\$\\$: \n",
    "\n",
    "$$\\int f(x)dx=\\lim_{n\\to\\infty}\\sum_{k=0}^n f(x_n^*)\\Delta_n,$$\n",
    "lub za pomocą środowiska *equation* (składnia \\\\begin{equation} \\\\end{equation} )\n",
    "\n",
    "\\begin{equation}\n",
    "\\int f(x)dx=\\lim_{n\\to\\infty}\\sum_{k=0}^n f(x_n^*)\\Delta_n.\n",
    "\\end{equation}"
   ]
  },
  {
   "cell_type": "markdown",
   "metadata": {},
   "source": [
    "Symbole, liczby oraz funkcje matematyczne możemy także umieszczać bezpośrednio w lini tekstu, np.  \n",
    "\n",
    "Wiadomo, że funkcja $\\sin x$ przyjmuje wartość zero dla $x=n\\pi$, gdzie $n\\in \\mathbb{N}$, tzn. $\\sin n \\pi =0$."
   ]
  },
  {
   "cell_type": "markdown",
   "metadata": {},
   "source": [
    "Widoczne różnice między poleceniami LaTeX a zwykłym zapisem równań matematycznych w tekście przedstawia poniższy przykład:    \n",
    "- sin pi=0  \n",
    "- $\\sin \\pi=0$  \n",
    "- $$\\sin \\pi=0$$  \n"
   ]
  },
  {
   "cell_type": "markdown",
   "metadata": {},
   "source": [
    "W artykule [[3](#bibliografia)] omówiono model ... . Natomiast w książce [[1](#bibliografia)] ...\n",
    "\n",
    "\n",
    "\n",
    "\n",
    "# Literatura\n",
    "<a id=\"bibliografia\"></a>\n",
    "[1] Książka 1  \n",
    "[2] Artukuł 1  \n",
    "[3] Artykuł 2  "
   ]
  },
  {
   "cell_type": "code",
   "execution_count": null,
   "metadata": {},
   "outputs": [],
   "source": []
  }
 ],
 "metadata": {
  "kernelspec": {
   "display_name": "Python 3 (ipykernel)",
   "language": "python",
   "name": "python3"
  },
  "language_info": {
   "codemirror_mode": {
    "name": "ipython",
    "version": 3
   },
   "file_extension": ".py",
   "mimetype": "text/x-python",
   "name": "python",
   "nbconvert_exporter": "python",
   "pygments_lexer": "ipython3",
   "version": "3.10.6"
  }
 },
 "nbformat": 4,
 "nbformat_minor": 2
}
